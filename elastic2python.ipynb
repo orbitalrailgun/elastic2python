{
 "cells": [
  {
   "cell_type": "code",
   "execution_count": 9,
   "id": "d7bf7684-5f0e-45a4-b823-cfdf1785ee6f",
   "metadata": {},
   "outputs": [],
   "source": [
    "# подгружаем нужное\n",
    "from elasticsearch import Elasticsearch # проверено на 8.11.1 https://elasticsearch-py.readthedocs.io/\n",
    "from opensearchpy import OpenSearch # проверено на 2.4.2 https://github.com/opensearch-project/opensearch-py/blob/main/USER_GUIDE.md\n",
    "import elastic_external_functions\n",
    "import pandas\n",
    "# отключаем по желанию\n",
    "#import urllib3\n",
    "#urllib3.disable_warnings(urllib3.exceptions.InsecureRequestWarning)"
   ]
  },
  {
   "cell_type": "markdown",
   "id": "c9b5245b-1c2e-4a59-98e4-ece2c8bd3a50",
   "metadata": {},
   "source": [
    "Сначала создаём клиенты подключений к elastic и opensearch"
   ]
  },
  {
   "cell_type": "code",
   "execution_count": 38,
   "id": "40e14507-1fd0-4405-ac6e-273ac337c98b",
   "metadata": {},
   "outputs": [],
   "source": [
    "# работаем с учётными данными, лучше это делать безопасно, например, через keyring\n",
    "elastic_api_key = \"foobarapikey\"\n",
    "opensearch_credentials = (\"foo_login\", \"bar_password\")"
   ]
  },
  {
   "cell_type": "code",
   "execution_count": 39,
   "id": "93de79d9-596f-4b32-9763-4250ed13370e",
   "metadata": {},
   "outputs": [],
   "source": [
    "#создаём экземпляр клиента к эластику\n",
    "elastic_client = Elasticsearch(\n",
    "    ['https://foobarelastic.ru:9201'],\n",
    "    #basic_auth=('', ''), или http_auth=('', '')\n",
    "    api_key=elastic_api_key, \n",
    "    verify_certs=False, \n",
    "    request_timeout=300, \n",
    "    max_retries=10, \n",
    "    retry_on_timeout=True\n",
    ")"
   ]
  },
  {
   "cell_type": "code",
   "execution_count": 12,
   "id": "3e9a0880-ce72-4547-b07b-1ae1d6889440",
   "metadata": {},
   "outputs": [],
   "source": [
    "opensearch_client = OpenSearch(\n",
    "    hosts = [{'host': \"foobaropensearch.ru\", 'port': 9200}],\n",
    "    http_compress = True, # enables gzip compression for request bodies\n",
    "    http_auth = opensearch_credentials,\n",
    "    #client_cert = client_cert_path,\n",
    "    #client_key = client_key_path,\n",
    "    use_ssl = True,\n",
    "    verify_certs = False,\n",
    "    ssl_assert_hostname = False,\n",
    "    ssl_show_warn = False,\n",
    "    timeout=300, \n",
    "    max_retries=10\n",
    "    #ca_certs = ca_certs_path\n",
    ")"
   ]
  },
  {
   "cell_type": "markdown",
   "id": "10f1c283-691f-40e0-9b31-07405f1c97ca",
   "metadata": {},
   "source": [
    "Подготовка для запроса в elastic (прямой, не агрегация)"
   ]
  },
  {
   "cell_type": "code",
   "execution_count": 34,
   "id": "8d2de4e7-727a-40f3-a067-2b3bb7771e58",
   "metadata": {},
   "outputs": [],
   "source": [
    "current_client = elastic_client\n",
    "current_query = {}\n",
    "current_query[\"index\"] = \"data-*\"\n",
    "current_query[\"gte\"] = \"2024-07-30T14:23:42.840Z\"\n",
    "current_query[\"lte\"] = \"2024-07-30T14:23:52.840Z\"\n",
    "current_query[\"query\"] = {\n",
    "    \"bool\": {\n",
    "      \"must\": [],\n",
    "      \"filter\": [\n",
    "        {\n",
    "          \"range\": {\n",
    "            \"@timestamp\": {\n",
    "              \"format\": \"strict_date_optional_time\",\n",
    "              \"gte\": current_query[\"gte\"],\n",
    "              \"lte\": current_query[\"lte\"]\n",
    "            }\n",
    "          }\n",
    "        },\n",
    "        {\n",
    "          \"match_phrase\": {\n",
    "            \"destination.ip\": \"10.10.44.107\"\n",
    "          }\n",
    "        }\n",
    "      ],\n",
    "      \"should\": [],\n",
    "      \"must_not\": []\n",
    "    }\n",
    "  }\n",
    "current_query[\"sort\"] = [\n",
    "    {\n",
    "      \"@timestamp\": {\n",
    "        \"order\": \"desc\",\n",
    "        \"format\": \"strict_date_optional_time\",\n",
    "        \"unmapped_type\": \"boolean\"\n",
    "      }\n",
    "    }\n",
    "  ]\n",
    "current_query[\"fields\"] = [{\"field\":\"*\",\"include_unmapped\":\"true\"}]\n",
    "current_query[\"size\"] = 1000\n",
    "current_query[\"search_after_shift\"] = -10 # если в ответе данных будет ровно current_query[\"size\"], например, 1000, то в качестве нового lte мы возьмём значение поля sort от 1000 +  current_query[\"search_after_shift\"], т.е. 990."
   ]
  },
  {
   "cell_type": "markdown",
   "id": "996419c2-8121-47ee-8187-bb13474f770f",
   "metadata": {},
   "source": [
    "Делаем запрос"
   ]
  },
  {
   "cell_type": "code",
   "execution_count": 35,
   "id": "9be72871-6203-432d-b1e2-1b11d865b680",
   "metadata": {},
   "outputs": [],
   "source": [
    "current_data = elastic_external_functions.data_taxi(\n",
    "                elastic_client = current_client, \n",
    "                index = current_query[\"index\"], \n",
    "                query = current_query[\"query\"], \n",
    "                sort = current_query[\"sort\"], \n",
    "                fields = current_query[\"fields\"], \n",
    "                size = current_query[\"size\"], \n",
    "                search_after = [current_query[\"lte\"]], \n",
    "                search_after_shift = current_query[\"search_after_shift\"], \n",
    "                debug = False\n",
    ")"
   ]
  },
  {
   "cell_type": "code",
   "execution_count": 40,
   "id": "ea1f3973-7dcb-495e-9bbb-967e1b6edcb0",
   "metadata": {},
   "outputs": [
    {
     "data": {
      "text/html": [
       "<div>\n",
       "<style scoped>\n",
       "    .dataframe tbody tr th:only-of-type {\n",
       "        vertical-align: middle;\n",
       "    }\n",
       "\n",
       "    .dataframe tbody tr th {\n",
       "        vertical-align: top;\n",
       "    }\n",
       "\n",
       "    .dataframe thead th {\n",
       "        text-align: right;\n",
       "    }\n",
       "</style>\n",
       "<table border=\"1\" class=\"dataframe\">\n",
       "  <thead>\n",
       "    <tr style=\"text-align: right;\">\n",
       "      <th></th>\n",
       "      <th>@timestamp</th>\n",
       "      <th>network.transport</th>\n",
       "      <th>event.type</th>\n",
       "      <th>destination.ip</th>\n",
       "    </tr>\n",
       "  </thead>\n",
       "  <tbody>\n",
       "    <tr>\n",
       "      <th>0</th>\n",
       "      <td>2024-07-30T14:23:52.001Z</td>\n",
       "      <td>udp</td>\n",
       "      <td>connection</td>\n",
       "      <td>10.10.44.107</td>\n",
       "    </tr>\n",
       "    <tr>\n",
       "      <th>1</th>\n",
       "      <td>2024-07-30T14:23:52.001Z</td>\n",
       "      <td>udp</td>\n",
       "      <td>connection</td>\n",
       "      <td>10.10.44.107</td>\n",
       "    </tr>\n",
       "  </tbody>\n",
       "</table>\n",
       "</div>"
      ],
      "text/plain": [
       "                 @timestamp network.transport  event.type destination.ip\n",
       "0  2024-07-30T14:23:52.001Z               udp  connection   10.10.44.107\n",
       "1  2024-07-30T14:23:52.001Z               udp  connection   10.10.44.107"
      ]
     },
     "execution_count": 40,
     "metadata": {},
     "output_type": "execute_result"
    }
   ],
   "source": [
    "pandas.DataFrame(current_data)[[\"@timestamp\",\"network.transport\",\"event.type\",\"destination.ip\"]] #...пример полей"
   ]
  },
  {
   "cell_type": "markdown",
   "id": "9a8c5f25-2c02-4986-a957-2698846fdc8a",
   "metadata": {},
   "source": [
    "Подготовка для запроса в elastic (агрегация)"
   ]
  },
  {
   "cell_type": "code",
   "execution_count": 30,
   "id": "1634a4f8-b76d-43e5-a964-c3b382add7a7",
   "metadata": {},
   "outputs": [],
   "source": [
    "current_client = elastic_client\n",
    "current_query = {}\n",
    "current_query[\"index\"] = \"data-*\"\n",
    "current_query[\"gte\"] = \"2024-07-30T14:31:15.572Z\"\n",
    "current_query[\"lte\"] = \"2024-07-30T14:41:15.572Z\"\n",
    "current_query[\"query\"] = {\n",
    "    \"bool\": {\n",
    "      \"must\": [],\n",
    "      \"filter\": [\n",
    "        {\n",
    "          \"range\": {\n",
    "            \"@timestamp\": {\n",
    "              \"format\": \"strict_date_optional_time\",\n",
    "              \"gte\": current_query[\"gte\"],\n",
    "              \"lte\": current_query[\"lte\"]\n",
    "            }\n",
    "          }\n",
    "        },\n",
    "        {\n",
    "          \"match_phrase\": {\n",
    "            \"destination.ip\": \"10.10.44.107\"\n",
    "          }\n",
    "        }\n",
    "      ],\n",
    "      \"should\": [],\n",
    "      \"must_not\": []\n",
    "    }\n",
    "  }\n",
    "current_query[\"aggs\"] = {\n",
    "    \"2\": {\n",
    "      \"terms\": {\n",
    "        \"field\": \"network.transport\",\n",
    "        \"order\": {\n",
    "          \"_count\": \"desc\"\n",
    "        },\n",
    "        \"size\": 5,\n",
    "        \"shard_size\": 25\n",
    "      },\n",
    "      \"aggs\": {\n",
    "        \"3\": {\n",
    "          \"terms\": {\n",
    "            \"field\": \"destination.ip\",\n",
    "            \"order\": {\n",
    "              \"_count\": \"desc\"\n",
    "            },\n",
    "            \"size\": 5,\n",
    "            \"shard_size\": 25\n",
    "          },\n",
    "          \"aggs\": {\n",
    "            \"4\": {\n",
    "              \"min\": {\n",
    "                \"field\": \"@timestamp\"\n",
    "              }\n",
    "            },\n",
    "            \"5\": {\n",
    "              \"max\": {\n",
    "                \"field\": \"@timestamp\"\n",
    "              }\n",
    "            }\n",
    "          }\n",
    "        }\n",
    "      }\n",
    "    }\n",
    "  }"
   ]
  },
  {
   "cell_type": "markdown",
   "id": "a4b4d2f6-6040-4909-a0a9-606165be81c7",
   "metadata": {},
   "source": [
    "Делаем запрос"
   ]
  },
  {
   "cell_type": "code",
   "execution_count": 31,
   "id": "bb787ab0-35b5-4186-8973-bcfd71e3c54e",
   "metadata": {},
   "outputs": [],
   "source": [
    "current_data = elastic_external_functions.data_taxi_aggs(\n",
    "                elastic_client = current_client,\n",
    "                index = current_query[\"index\"], \n",
    "                query = current_query[\"query\"],\n",
    "                size = 0,\n",
    "                aggs = current_query[\"aggs\"],\n",
    "                debug = False\n",
    "        )"
   ]
  },
  {
   "cell_type": "code",
   "execution_count": 32,
   "id": "cec7e688-9f7b-423b-8f4c-9acbbbcc1f37",
   "metadata": {},
   "outputs": [
    {
     "data": {
      "text/html": [
       "<div>\n",
       "<style scoped>\n",
       "    .dataframe tbody tr th:only-of-type {\n",
       "        vertical-align: middle;\n",
       "    }\n",
       "\n",
       "    .dataframe tbody tr th {\n",
       "        vertical-align: top;\n",
       "    }\n",
       "\n",
       "    .dataframe thead th {\n",
       "        text-align: right;\n",
       "    }\n",
       "</style>\n",
       "<table border=\"1\" class=\"dataframe\">\n",
       "  <thead>\n",
       "    <tr style=\"text-align: right;\">\n",
       "      <th></th>\n",
       "      <th>network.transport_terms</th>\n",
       "      <th>destination.ip_terms</th>\n",
       "      <th>doc_count</th>\n",
       "      <th>@timestamp_min</th>\n",
       "      <th>@timestamp_max</th>\n",
       "    </tr>\n",
       "  </thead>\n",
       "  <tbody>\n",
       "    <tr>\n",
       "      <th>0</th>\n",
       "      <td>udp</td>\n",
       "      <td>10.10.44.107</td>\n",
       "      <td>27</td>\n",
       "      <td>2024-07-30T14:31:42.001Z</td>\n",
       "      <td>2024-07-30T14:41:02.001Z</td>\n",
       "    </tr>\n",
       "    <tr>\n",
       "      <th>1</th>\n",
       "      <td>tcp</td>\n",
       "      <td>10.10.44.107</td>\n",
       "      <td>19</td>\n",
       "      <td>2024-07-30T14:32:07.000Z</td>\n",
       "      <td>2024-07-30T14:41:02.001Z</td>\n",
       "    </tr>\n",
       "  </tbody>\n",
       "</table>\n",
       "</div>"
      ],
      "text/plain": [
       "  network.transport_terms destination.ip_terms  doc_count  \\\n",
       "0                     udp         10.10.44.107         27   \n",
       "1                     tcp         10.10.44.107         19   \n",
       "\n",
       "             @timestamp_min            @timestamp_max  \n",
       "0  2024-07-30T14:31:42.001Z  2024-07-30T14:41:02.001Z  \n",
       "1  2024-07-30T14:32:07.000Z  2024-07-30T14:41:02.001Z  "
      ]
     },
     "execution_count": 32,
     "metadata": {},
     "output_type": "execute_result"
    }
   ],
   "source": [
    "pandas.DataFrame(current_data)"
   ]
  },
  {
   "cell_type": "markdown",
   "id": "1ca18239-481c-496d-b85e-f857611d2e51",
   "metadata": {},
   "source": [
    "Для opensearch работает аналогично, просто указываем в качестве current_client = opensearch_client"
   ]
  },
  {
   "cell_type": "code",
   "execution_count": null,
   "id": "eba57693-84b7-411f-ae1b-876d86854d49",
   "metadata": {},
   "outputs": [],
   "source": []
  }
 ],
 "metadata": {
  "kernelspec": {
   "display_name": "Python 3 (ipykernel)",
   "language": "python",
   "name": "python3"
  },
  "language_info": {
   "codemirror_mode": {
    "name": "ipython",
    "version": 3
   },
   "file_extension": ".py",
   "mimetype": "text/x-python",
   "name": "python",
   "nbconvert_exporter": "python",
   "pygments_lexer": "ipython3",
   "version": "3.10.10"
  }
 },
 "nbformat": 4,
 "nbformat_minor": 5
}
